{
  "nbformat": 4,
  "nbformat_minor": 0,
  "metadata": {
    "colab": {
      "provenance": [],
      "authorship_tag": "ABX9TyNUsjAgQ1ji4FJaGhoDehgT",
      "include_colab_link": true
    },
    "kernelspec": {
      "name": "python3",
      "display_name": "Python 3"
    },
    "language_info": {
      "name": "python"
    }
  },
  "cells": [
    {
      "cell_type": "markdown",
      "metadata": {
        "id": "view-in-github",
        "colab_type": "text"
      },
      "source": [
        "<a href=\"https://colab.research.google.com/github/goodarzi64/Graph_test/blob/main/LSTM.ipynb\" target=\"_parent\"><img src=\"https://colab.research.google.com/assets/colab-badge.svg\" alt=\"Open In Colab\"/></a>"
      ]
    },
    {
      "cell_type": "code",
      "execution_count": 27,
      "metadata": {
        "id": "VXxvVwU7xruj"
      },
      "outputs": [],
      "source": [
        "import tensorflow as tf\n",
        "import matplotlib.pyplot as plt\n",
        "import numpy as np\n",
        "import seaborn as sns\n",
        "from tensorflow.keras.models import Sequential\n",
        "from keras.layers import Dense, Conv1D, MaxPooling1D , Dropout , Flatten , BatchNormalization,LSTM\n",
        "from tensorflow.keras.optimizers import SGD,Adam\n",
        "from sklearn.metrics import confusion_matrix\n",
        "import pandas as pd\n",
        "from tensorflow.keras.callbacks import ModelCheckpoint, TensorBoard,EarlyStopping\n",
        "from sklearn.preprocessing import MinMaxScaler\n",
        "from sklearn.metrics import mean_absolute_error\n",
        "from sklearn.metrics import mean_squared_error\n",
        "from sklearn.metrics import r2_score"
      ]
    },
    {
      "cell_type": "code",
      "source": [
        "import glob\n",
        "import os\n",
        "path = r'/content' # use your path\n",
        "all_files = glob.glob(os.path.join(path , \"/*.csv\"))\n",
        "all_files\n",
        "from pathlib import Path\n",
        "root_path = Path(r'/content')\n",
        "file_paths = root_path.glob('*.csv')\n",
        "all_files = [root_path.joinpath(file_path) for file_path in file_paths]\n",
        "li = []\n",
        "for filename in all_files:\n",
        "    df1 = pd.read_csv(filename, index_col=None, skiprows=2)\n",
        "    df1=df1[['Temperature','Cloud Type','Dew Point','Ozone','Relative Humidity','Solar Zenith Angle','Surface Albedo','Pressure','Precipitable Water','Wind Direction','Wind Speed','GHI']]\n",
        "    li.append(df1)\n",
        "df = pd.concat(li, axis=0, ignore_index=True)\n",
        "df.shape"
      ],
      "metadata": {
        "colab": {
          "base_uri": "https://localhost:8080/"
        },
        "id": "JyTznXKTxynV",
        "outputId": "f00d6134-4643-49fc-f2dd-dd0bbc3b6c4f"
      },
      "execution_count": 56,
      "outputs": [
        {
          "output_type": "execute_result",
          "data": {
            "text/plain": [
              "(26280, 12)"
            ]
          },
          "metadata": {},
          "execution_count": 56
        }
      ]
    },
    {
      "cell_type": "code",
      "source": [
        "plt.scatter(df.index[:100],df[:100]['GHI'],c=df[:100]['Cloud Type'])"
      ],
      "metadata": {
        "colab": {
          "base_uri": "https://localhost:8080/",
          "height": 448
        },
        "id": "2rnniYywrpTX",
        "outputId": "070a6082-b3f3-4f31-e5ad-0c9c9a32a81f"
      },
      "execution_count": 25,
      "outputs": [
        {
          "output_type": "execute_result",
          "data": {
            "text/plain": [
              "<matplotlib.collections.PathCollection at 0x7d3be285ebf0>"
            ]
          },
          "metadata": {},
          "execution_count": 25
        },
        {
          "output_type": "display_data",
          "data": {
            "text/plain": [
              "<Figure size 640x480 with 1 Axes>"
            ],
            "image/png": "[encoded data removed]"
          },
          "metadata": {}
        }
      ]
    },
    {
      "cell_type": "code",
      "execution_count": 29,
      "source": [
        "from sklearn.exceptions import FitFailedWarning\n",
        "\n",
        "\n",
        "scaler=MinMaxScaler(feature_range=(0,1))\n",
        "df=pd.DataFrame(scaler.fit_transform(df),columns=df.columns)\n",
        "df.head()\n"
      ],
      "outputs": [
        {
          "output_type": "execute_result",
          "data": {
            "text/plain": [
              "   Temperature  Cloud Type  Dew Point     Ozone  Relative Humidity  \\\n",
              "0     0.234469         0.0   0.483384  0.144509           0.600450   \n",
              "1     0.226453         0.0   0.489426  0.144509           0.628385   \n",
              "2     0.214429         0.0   0.489426  0.150289           0.653966   \n",
              "3     0.220441         0.0   0.483384  0.150289           0.631382   \n",
              "4     0.268537         0.0   0.480363  0.156069           0.524243   \n",
              "\n",
              "   Solar Zenith Angle  Surface Albedo  Pressure  Precipitable Water  \\\n",
              "0            0.747316             0.0  0.600000            0.184211   \n",
              "1            0.669547             0.0  0.566667            0.184211   \n",
              "2            0.593621             0.0  0.566667            0.184211   \n",
              "3            0.520935             0.0  0.600000            0.184211   \n",
              "4            0.452507             0.0  0.600000            0.157895   \n",
              "\n",
              "   Wind Direction  Wind Speed       GHI  \n",
              "0        0.919444    0.047619  0.000000  \n",
              "1        0.800000    0.047619  0.000000  \n",
              "2        0.722222    0.066667  0.000000  \n",
              "3        0.708333    0.076190  0.000000  \n",
              "4        0.713889    0.095238  0.086874  "
            ],
            "text/html": [
              "\n",
              "  <div id=\"df-677fbe92-ab16-4d84-8894-809bdd5fcc25\" class=\"colab-df-container\">\n",
              "    <div>\n",
              "<style scoped>\n",
              "    .dataframe tbody tr th:only-of-type {\n",
              "        vertical-align: middle;\n",
              "    }\n",
              "\n",
              "    .dataframe tbody tr th {\n",
              "        vertical-align: top;\n",
              "    }\n",
              "\n",
              "    .dataframe thead th {\n",
              "        text-align: right;\n",
              "    }\n",
              "</style>\n",
              "<table border=\"1\" class=\"dataframe\">\n",
              "  <thead>\n",
              "    <tr style=\"text-align: right;\">\n",
              "      <th></th>\n",
              "      <th>Temperature</th>\n",
              "      <th>Cloud Type</th>\n",
              "      <th>Dew Point</th>\n",
              "      <th>Ozone</th>\n",
              "      <th>Relative Humidity</th>\n",
              "      <th>Solar Zenith Angle</th>\n",
              "      <th>Surface Albedo</th>\n",
              "      <th>Pressure</th>\n",
              "      <th>Precipitable Water</th>\n",
              "      <th>Wind Direction</th>\n",
              "      <th>Wind Speed</th>\n",
              "      <th>GHI</th>\n",
              "    </tr>\n",
              "  </thead>\n",
              "  <tbody>\n",
              "    <tr>\n",
              "      <th>0</th>\n",
              "      <td>0.234469</td>\n",
              "      <td>0.0</td>\n",
              "      <td>0.483384</td>\n",
              "      <td>0.144509</td>\n",
              "      <td>0.600450</td>\n",
              "      <td>0.747316</td>\n",
              "      <td>0.0</td>\n",
              "      <td>0.600000</td>\n",
              "      <td>0.184211</td>\n",
              "      <td>0.919444</td>\n",
              "      <td>0.047619</td>\n",
              "      <td>0.000000</td>\n",
              "    </tr>\n",
              "    <tr>\n",
              "      <th>1</th>\n",
              "      <td>0.226453</td>\n",
              "      <td>0.0</td>\n",
              "      <td>0.489426</td>\n",
              "      <td>0.144509</td>\n",
              "      <td>0.628385</td>\n",
              "      <td>0.669547</td>\n",
              "      <td>0.0</td>\n",
              "      <td>0.566667</td>\n",
              "      <td>0.184211</td>\n",
              "      <td>0.800000</td>\n",
              "      <td>0.047619</td>\n",
              "      <td>0.000000</td>\n",
              "    </tr>\n",
              "    <tr>\n",
              "      <th>2</th>\n",
              "      <td>0.214429</td>\n",
              "      <td>0.0</td>\n",
              "      <td>0.489426</td>\n",
              "      <td>0.150289</td>\n",
              "      <td>0.653966</td>\n",
              "      <td>0.593621</td>\n",
              "      <td>0.0</td>\n",
              "      <td>0.566667</td>\n",
              "      <td>0.184211</td>\n",
              "      <td>0.722222</td>\n",
              "      <td>0.066667</td>\n",
              "      <td>0.000000</td>\n",
              "    </tr>\n",
              "    <tr>\n",
              "      <th>3</th>\n",
              "      <td>0.220441</td>\n",
              "      <td>0.0</td>\n",
              "      <td>0.483384</td>\n",
              "      <td>0.150289</td>\n",
              "      <td>0.631382</td>\n",
              "      <td>0.520935</td>\n",
              "      <td>0.0</td>\n",
              "      <td>0.600000</td>\n",
              "      <td>0.184211</td>\n",
              "      <td>0.708333</td>\n",
              "      <td>0.076190</td>\n",
              "      <td>0.000000</td>\n",
              "    </tr>\n",
              "    <tr>\n",
              "      <th>4</th>\n",
              "      <td>0.268537</td>\n",
              "      <td>0.0</td>\n",
              "      <td>0.480363</td>\n",
              "      <td>0.156069</td>\n",
              "      <td>0.524243</td>\n",
              "      <td>0.452507</td>\n",
              "      <td>0.0</td>\n",
              "      <td>0.600000</td>\n",
              "      <td>0.157895</td>\n",
              "      <td>0.713889</td>\n",
              "      <td>0.095238</td>\n",
              "      <td>0.086874</td>\n",
              "    </tr>\n",
              "  </tbody>\n",
              "</table>\n",
              "</div>\n",
              "    <div class=\"colab-df-buttons\">\n",
              "\n",
              "  <div class=\"colab-df-container\">\n",
              "    <button class=\"colab-df-convert\" onclick=\"convertToInteractive('df-677fbe92-ab16-4d84-8894-809bdd5fcc25')\"\n",
              "            title=\"Convert this dataframe to an interactive table.\"\n",
              "            style=\"display:none;\">\n",
              "\n",
              "  <svg xmlns=\"http://www.w3.org/2000/svg\" height=\"24px\" viewBox=\"0 -960 960 960\">\n",
              "    <path d=\"M120-120v-720h720v720H120Zm60-500h600v-160H180v160Zm220 220h160v-160H400v160Zm0 220h160v-160H400v160ZM180-400h160v-160H180v160Zm440 0h160v-160H620v160ZM180-180h160v-160H180v160Zm440 0h160v-160H620v160Z\"/>\n",
              "  </svg>\n",
              "    </button>\n",
              "\n",
              "  <style>\n",
              "    .colab-df-container {\n",
              "      display:flex;\n",
              "      gap: 12px;\n",
              "    }\n",
              "\n",
              "    .colab-df-convert {\n",
              "      background-color: #E8F0FE;\n",
              "      border: none;\n",
              "      border-radius: 50%;\n",
              "      cursor: pointer;\n",
              "      display: none;\n",
              "      fill: #1967D2;\n",
              "      height: 32px;\n",
              "      padding: 0 0 0 0;\n",
              "      width: 32px;\n",
              "    }\n",
              "\n",
              "    .colab-df-convert:hover {\n",
              "      background-color: #E2EBFA;\n",
              "      box-shadow: 0px 1px 2px rgba(60, 64, 67, 0.3), 0px 1px 3px 1px rgba(60, 64, 67, 0.15);\n",
              "      fill: #174EA6;\n",
              "    }\n",
              "\n",
              "    .colab-df-buttons div {\n",
              "      margin-bottom: 4px;\n",
              "    }\n",
              "\n",
              "    [theme=dark] .colab-df-convert {\n",
              "      background-color: #3B4455;\n",
              "      fill: #D2E3FC;\n",
              "    }\n",
              "\n",
              "    [theme=dark] .colab-df-convert:hover {\n",
              "      background-color: #434B5C;\n",
              "      box-shadow: 0px 1px 3px 1px rgba(0, 0, 0, 0.15);\n",
              "      filter: drop-shadow(0px 1px 2px rgba(0, 0, 0, 0.3));\n",
              "      fill: #FFFFFF;\n",
              "    }\n",
              "  </style>\n",
              "\n",
              "    <script>\n",
              "      const buttonEl =\n",
              "        document.querySelector('#df-677fbe92-ab16-4d84-8894-809bdd5fcc25 button.colab-df-convert');\n",
              "      buttonEl.style.display =\n",
              "        google.colab.kernel.accessAllowed ? 'block' : 'none';\n",
              "\n",
              "      async function convertToInteractive(key) {\n",
              "        const element = document.querySelector('#df-677fbe92-ab16-4d84-8894-809bdd5fcc25');\n",
              "        const dataTable =\n",
              "          await google.colab.kernel.invokeFunction('convertToInteractive',\n",
              "                                                    [key], {});\n",
              "        if (!dataTable) return;\n",
              "\n",
              "        const docLinkHtml = 'Like what you see? Visit the ' +\n",
              "          '<a target=\"_blank\" href=https://colab.research.google.com/notebooks/data_table.ipynb>data table notebook</a>'\n",
              "          + ' to learn more about interactive tables.';\n",
              "        element.innerHTML = '';\n",
              "        dataTable['output_type'] = 'display_data';\n",
              "        await google.colab.output.renderOutput(dataTable, element);\n",
              "        const docLink = document.createElement('div');\n",
              "        docLink.innerHTML = docLinkHtml;\n",
              "        element.appendChild(docLink);\n",
              "      }\n",
              "    </script>\n",
              "  </div>\n",
              "\n",
              "\n",
              "<div id=\"df-59651eba-138e-4e8b-b290-880ed0b36045\">\n",
              "  <button class=\"colab-df-quickchart\" onclick=\"quickchart('df-59651eba-138e-4e8b-b290-880ed0b36045')\"\n",
              "            title=\"Suggest charts\"\n",
              "            style=\"display:none;\">\n",
              "\n",
              "<svg xmlns=\"http://www.w3.org/2000/svg\" height=\"24px\"viewBox=\"0 0 24 24\"\n",
              "     width=\"24px\">\n",
              "    <g>\n",
              "        <path d=\"M19 3H5c-1.1 0-2 .9-2 2v14c0 1.1.9 2 2 2h14c1.1 0 2-.9 2-2V5c0-1.1-.9-2-2-2zM9 17H7v-7h2v7zm4 0h-2V7h2v10zm4 0h-2v-4h2v4z\"/>\n",
              "    </g>\n",
              "</svg>\n",
              "  </button>\n",
              "\n",
              "<style>\n",
              "  .colab-df-quickchart {\n",
              "      --bg-color: #E8F0FE;\n",
              "      --fill-color: #1967D2;\n",
              "      --hover-bg-color: #E2EBFA;\n",
              "      --hover-fill-color: #174EA6;\n",
              "      --disabled-fill-color: #AAA;\n",
              "      --disabled-bg-color: #DDD;\n",
              "  }\n",
              "\n",
              "  [theme=dark] .colab-df-quickchart {\n",
              "      --bg-color: #3B4455;\n",
              "      --fill-color: #D2E3FC;\n",
              "      --hover-bg-color: #434B5C;\n",
              "      --hover-fill-color: #FFFFFF;\n",
              "      --disabled-bg-color: #3B4455;\n",
              "      --disabled-fill-color: #666;\n",
              "  }\n",
              "\n",
              "  .colab-df-quickchart {\n",
              "    background-color: var(--bg-color);\n",
              "    border: none;\n",
              "    border-radius: 50%;\n",
              "    cursor: pointer;\n",
              "    display: none;\n",
              "    fill: var(--fill-color);\n",
              "    height: 32px;\n",
              "    padding: 0;\n",
              "    width: 32px;\n",
              "  }\n",
              "\n",
              "  .colab-df-quickchart:hover {\n",
              "    background-color: var(--hover-bg-color);\n",
              "    box-shadow: 0 1px 2px rgba(60, 64, 67, 0.3), 0 1px 3px 1px rgba(60, 64, 67, 0.15);\n",
              "    fill: var(--button-hover-fill-color);\n",
              "  }\n",
              "\n",
              "  .colab-df-quickchart-complete:disabled,\n",
              "  .colab-df-quickchart-complete:disabled:hover {\n",
              "    background-color: var(--disabled-bg-color);\n",
              "    fill: var(--disabled-fill-color);\n",
              "    box-shadow: none;\n",
              "  }\n",
              "\n",
              "  .colab-df-spinner {\n",
              "    border: 2px solid var(--fill-color);\n",
              "    border-color: transparent;\n",
              "    border-bottom-color: var(--fill-color);\n",
              "    animation:\n",
              "      spin 1s steps(1) infinite;\n",
              "  }\n",
              "\n",
              "  @keyframes spin {\n",
              "    0% {\n",
              "      border-color: transparent;\n",
              "      border-bottom-color: var(--fill-color);\n",
              "      border-left-color: var(--fill-color);\n",
              "    }\n",
              "    20% {\n",
              "      border-color: transparent;\n",
              "      border-left-color: var(--fill-color);\n",
              "      border-top-color: var(--fill-color);\n",
              "    }\n",
              "    30% {\n",
              "      border-color: transparent;\n",
              "      border-left-color: var(--fill-color);\n",
              "      border-top-color: var(--fill-color);\n",
              "      border-right-color: var(--fill-color);\n",
              "    }\n",
              "    40% {\n",
              "      border-color: transparent;\n",
              "      border-right-color: var(--fill-color);\n",
              "      border-top-color: var(--fill-color);\n",
              "    }\n",
              "    60% {\n",
              "      border-color: transparent;\n",
              "      border-right-color: var(--fill-color);\n",
              "    }\n",
              "    80% {\n",
              "      border-color: transparent;\n",
              "      border-right-color: var(--fill-color);\n",
              "      border-bottom-color: var(--fill-color);\n",
              "    }\n",
              "    90% {\n",
              "      border-color: transparent;\n",
              "      border-bottom-color: var(--fill-color);\n",
              "    }\n",
              "  }\n",
              "</style>\n",
              "\n",
              "  <script>\n",
              "    async function quickchart(key) {\n",
              "      const quickchartButtonEl =\n",
              "        document.querySelector('#' + key + ' button');\n",
              "      quickchartButtonEl.disabled = true;  // To prevent multiple clicks.\n",
              "      quickchartButtonEl.classList.add('colab-df-spinner');\n",
              "      try {\n",
              "        const charts = await google.colab.kernel.invokeFunction(\n",
              "            'suggestCharts', [key], {});\n",
              "      } catch (error) {\n",
              "        console.error('Error during call to suggestCharts:', error);\n",
              "      }\n",
              "      quickchartButtonEl.classList.remove('colab-df-spinner');\n",
              "      quickchartButtonEl.classList.add('colab-df-quickchart-complete');\n",
              "    }\n",
              "    (() => {\n",
              "      let quickchartButtonEl =\n",
              "        document.querySelector('#df-59651eba-138e-4e8b-b290-880ed0b36045 button');\n",
              "      quickchartButtonEl.style.display =\n",
              "        google.colab.kernel.accessAllowed ? 'block' : 'none';\n",
              "    })();\n",
              "  </script>\n",
              "</div>\n",
              "    </div>\n",
              "  </div>\n"
            ],
            "application/vnd.google.colaboratory.intrinsic+json": {
              "type": "dataframe",
              "variable_name": "df",
              "summary": "{\n  \"name\": \"df\",\n  \"rows\": 26280,\n  \"fields\": [\n    {\n      \"column\": \"Temperature\",\n      \"properties\": {\n        \"dtype\": \"number\",\n        \"std\": 0.2224141034580935,\n        \"min\": 0.0,\n        \"max\": 1.0,\n        \"num_unique_values\": 498,\n        \"samples\": [\n          0.07214428857715431,\n          0.41683366733466937,\n          0.4048096192384769\n        ],\n        \"semantic_type\": \"\",\n        \"description\": \"\"\n      }\n    },\n    {\n      \"column\": \"Cloud Type\",\n      \"properties\": {\n        \"dtype\": \"number\",\n        \"std\": 0.30701330144881095,\n        \"min\": 0.0,\n        \"max\": 1.0,\n        \"num_unique_values\": 8,\n        \"samples\": [\n          0.1111111111111111,\n          1.0,\n          0.0\n        ],\n        \"semantic_type\": \"\",\n        \"description\": \"\"\n      }\n    },\n    {\n      \"column\": \"Dew Point\",\n      \"properties\": {\n        \"dtype\": \"number\",\n        \"std\": 0.16263421825832916,\n        \"min\": 0.0,\n        \"max\": 1.0,\n        \"num_unique_values\": 310,\n        \"samples\": [\n          0.9063444108761329,\n          0.36858006042296076,\n          0.2265861027190333\n        ],\n        \"semantic_type\": \"\",\n        \"description\": \"\"\n      }\n    },\n    {\n      \"column\": \"Ozone\",\n      \"properties\": {\n        \"dtype\": \"number\",\n        \"std\": 0.15151048659359992,\n        \"min\": 0.0,\n        \"max\": 1.0,\n        \"num_unique_values\": 173,\n        \"samples\": [\n          0.03468208092485536,\n          0.4739884393063585,\n          0.8323699421965318\n        ],\n        \"semantic_type\": \"\",\n        \"description\": \"\"\n      }\n    },\n    {\n      \"column\": \"Relative Humidity\",\n      \"properties\": {\n        \"dtype\": \"number\",\n        \"std\": 0.2399824193674631,\n        \"min\": 0.0,\n        \"max\": 1.0,\n        \"num_unique_values\": 7810,\n        \"samples\": [\n          0.2687573584501767,\n          0.8409504441828107,\n          0.18206143636947447\n        ],\n        \"semantic_type\": \"\",\n        \"description\": \"\"\n      }\n    },\n    {\n      \"column\": \"Solar Zenith Angle\",\n      \"properties\": {\n        \"dtype\": \"number\",\n        \"std\": 0.24635925202566,\n        \"min\": 0.0,\n        \"max\": 1.0,\n        \"num_unique_values\": 12236,\n        \"samples\": [\n          0.1308215261452443,\n          0.17663129804943134,\n          0.25706842874388464\n        ],\n        \"semantic_type\": \"\",\n        \"description\": \"\"\n      }\n    },\n    {\n      \"column\": \"Surface Albedo\",\n      \"properties\": {\n        \"dtype\": \"number\",\n        \"std\": 0.03219176734132618,\n        \"min\": 0.0,\n        \"max\": 1.0000000000000002,\n        \"num_unique_values\": 6,\n        \"samples\": [\n          0.0,\n          0.014492753623188415,\n          0.0579710144927536\n        ],\n        \"semantic_type\": \"\",\n        \"description\": \"\"\n      }\n    },\n    {\n      \"column\": \"Pressure\",\n      \"properties\": {\n        \"dtype\": \"number\",\n        \"std\": 0.1517029285964828,\n        \"min\": 0.0,\n        \"max\": 1.0,\n        \"num_unique_values\": 31,\n        \"samples\": [\n          0.9333333333333336,\n          0.7666666666666657,\n          0.09999999999999787\n        ],\n        \"semantic_type\": \"\",\n        \"description\": \"\"\n      }\n    },\n    {\n      \"column\": \"Precipitable Water\",\n      \"properties\": {\n        \"dtype\": \"number\",\n        \"std\": 0.16466423890579265,\n        \"min\": 0.0,\n        \"max\": 1.0,\n        \"num_unique_values\": 39,\n        \"samples\": [\n          0.0,\n          0.9473684210526314,\n          0.26315789473684215\n        ],\n        \"semantic_type\": \"\",\n        \"description\": \"\"\n      }\n    },\n    {\n      \"column\": \"Wind Direction\",\n      \"properties\": {\n        \"dtype\": \"number\",\n        \"std\": 0.26091835828979354,\n        \"min\": 0.0,\n        \"max\": 1.0,\n        \"num_unique_values\": 361,\n        \"samples\": [\n          0.9027777777777778,\n          0.7388888888888889,\n          0.38333333333333336\n        ],\n        \"semantic_type\": \"\",\n        \"description\": \"\"\n      }\n    },\n    {\n      \"column\": \"Wind Speed\",\n      \"properties\": {\n        \"dtype\": \"number\",\n        \"std\": 0.15667697785474574,\n        \"min\": 0.0,\n        \"max\": 0.9999999999999999,\n        \"num_unique_values\": 106,\n        \"samples\": [\n          0.9047619047619045,\n          0.2761904761904762,\n          0.08571428571428572\n        ],\n        \"semantic_type\": \"\",\n        \"description\": \"\"\n      }\n    },\n    {\n      \"column\": \"GHI\",\n      \"properties\": {\n        \"dtype\": \"number\",\n        \"std\": 0.28782825735224105,\n        \"min\": 0.0,\n        \"max\": 1.0,\n        \"num_unique_values\": 1045,\n        \"samples\": [\n          0.8234183191690274,\n          0.23984891406987727,\n          0.3541076487252125\n        ],\n        \"semantic_type\": \"\",\n        \"description\": \"\"\n      }\n    }\n  ]\n}"
            }
          },
          "metadata": {},
          "execution_count": 29
        }
      ],
      "metadata": {
        "id": "xd4Q2vf6zmpd",
        "colab": {
          "base_uri": "https://localhost:8080/",
          "height": 224
        },
        "outputId": "2e9a7820-9bb0-4f41-a3b4-b0907775dd31"
      }
    },
    {
      "cell_type": "code",
      "source": [
        "plt.figure(figsize=(20,15))\n",
        "sns.heatmap(df.corr(),annot=True,cmap=plt.cm.Blues)"
      ],
      "metadata": {
        "id": "yEWL9HD7EnaL"
      },
      "execution_count": null,
      "outputs": []
    },
    {
      "cell_type": "code",
      "source": [
        "##\n",
        "def fun(data,lag_in,lag_out):\n",
        "  k=len(data)-(lag_in+lag_out)+1\n",
        "  x=[]\n",
        "  y=[]\n",
        "  for i in range(k):\n",
        "    x.append(data[i:i+lag_in,:-1])\n",
        "    y.append(data[i+lag_in-1:i+lag_in-1+lag_out,[1,-1]])\n",
        "  x=np.array(x)\n",
        "  y=np.array(y)\n",
        "  return x,y\n",
        "##"
      ],
      "metadata": {
        "id": "NE49_ADvH0di"
      },
      "execution_count": 49,
      "outputs": []
    },
    {
      "cell_type": "code",
      "source": [
        "\n"
      ],
      "metadata": {
        "id": "KUqed3zX-NA-"
      },
      "execution_count": null,
      "outputs": []
    },
    {
      "cell_type": "code",
      "source": [
        "##\n",
        "data=np.array(df)\n",
        "train=data[:int(0.8*len(data))]\n",
        "train.shape\n",
        "test=data[int(0.8*len(data)):]\n",
        "test.shape\n",
        "lag_in=48\n",
        "lag_out=12\n",
        "x_train,y_train=fun(train,lag_in,lag_out)\n",
        "x_test,y_test=fun(test,lag_in,lag_out)\n",
        "##\n"
      ],
      "metadata": {
        "id": "YnBl1x5iH6Q1"
      },
      "execution_count": 51,
      "outputs": []
    },
    {
      "cell_type": "code",
      "source": [
        "##\n",
        "callback=EarlyStopping(min_delta=1e-5,patience=5)\n",
        "loss_fn=tf.keras.losses.MeanSquaredError()\n",
        "model=Sequential()\n",
        "model.add(LSTM(64,return_sequences=True,input_shape=(48,11)))\n",
        "model.add(Dropout(0.2))\n",
        "model.add(LSTM(64))\n",
        "model.add(Dropout(0.2))\n",
        "model.add(Dense(12,activation=\"relu\"))\n",
        "model.summary()\n",
        "##"
      ],
      "metadata": {
        "colab": {
          "base_uri": "https://localhost:8080/"
        },
        "id": "fnaikxEGVjdc",
        "outputId": "12bd55bc-594a-4941-91e9-a7c33ff6e19c"
      },
      "execution_count": 32,
      "outputs": [
        {
          "output_type": "stream",
          "name": "stdout",
          "text": [
            "Model: \"sequential\"\n",
            "_________________________________________________________________\n",
            " Layer (type)                Output Shape              Param #   \n",
            "=================================================================\n",
            " lstm (LSTM)                 (None, 48, 64)            19456     \n",
            "                                                                 \n",
            " dropout (Dropout)           (None, 48, 64)            0         \n",
            "                                                                 \n",
            " lstm_1 (LSTM)               (None, 64)                33024     \n",
            "                                                                 \n",
            " dropout_1 (Dropout)         (None, 64)                0         \n",
            "                                                                 \n",
            " dense (Dense)               (None, 12)                780       \n",
            "                                                                 \n",
            "=================================================================\n",
            "Total params: 53260 (208.05 KB)\n",
            "Trainable params: 53260 (208.05 KB)\n",
            "Non-trainable params: 0 (0.00 Byte)\n",
            "_________________________________________________________________\n"
          ]
        }
      ]
    },
    {
      "cell_type": "code",
      "source": [
        "y_train[:,:,-1].shape"
      ],
      "metadata": {
        "colab": {
          "base_uri": "https://localhost:8080/"
        },
        "id": "wjxCyWDxAmt9",
        "outputId": "036e353a-663e-41d8-824e-e077ea2605fa"
      },
      "execution_count": 54,
      "outputs": [
        {
          "output_type": "execute_result",
          "data": {
            "text/plain": [
              "(20965, 12)"
            ]
          },
          "metadata": {},
          "execution_count": 54
        }
      ]
    },
    {
      "cell_type": "code",
      "source": [
        "##\n",
        "model.compile(optimizer=Adam(learning_rate=0.001),loss=loss_fn)\n",
        "history=model.fit(x_train,y_train[:,:,-1],batch_size=128,epochs=10,callbacks=[callback],validation_data=(x_test,y_test[:,:,-1]))\n",
        "##"
      ],
      "metadata": {
        "colab": {
          "base_uri": "https://localhost:8080/"
        },
        "id": "SD_8ofZKV_nR",
        "outputId": "27e27e6a-9dd1-41d6-ecd0-f26164e4af16"
      },
      "execution_count": 57,
      "outputs": [
        {
          "output_type": "stream",
          "name": "stdout",
          "text": [
            "Epoch 1/10\n",
            "164/164 [==============================] - 94s 538ms/step - loss: 0.0064 - val_loss: 0.0020\n",
            "Epoch 2/10\n",
            "164/164 [==============================] - 39s 236ms/step - loss: 0.0063 - val_loss: 0.0026\n",
            "Epoch 3/10\n",
            "164/164 [==============================] - 38s 231ms/step - loss: 0.0063 - val_loss: 0.0019\n",
            "Epoch 4/10\n",
            "164/164 [==============================] - 38s 233ms/step - loss: 0.0061 - val_loss: 0.0019\n",
            "Epoch 5/10\n",
            "164/164 [==============================] - 34s 210ms/step - loss: 0.0061 - val_loss: 0.0019\n",
            "Epoch 6/10\n",
            "164/164 [==============================] - 35s 214ms/step - loss: 0.0060 - val_loss: 0.0021\n",
            "Epoch 7/10\n",
            "164/164 [==============================] - 36s 219ms/step - loss: 0.0060 - val_loss: 0.0021\n",
            "Epoch 8/10\n",
            "164/164 [==============================] - 36s 221ms/step - loss: 0.0058 - val_loss: 0.0019\n",
            "Epoch 9/10\n",
            "164/164 [==============================] - 38s 231ms/step - loss: 0.0057 - val_loss: 0.0023\n",
            "Epoch 10/10\n",
            "164/164 [==============================] - 38s 232ms/step - loss: 0.0057 - val_loss: 0.0023\n"
          ]
        }
      ]
    },
    {
      "cell_type": "code",
      "execution_count": 35,
      "source": [
        "def model_plot(history):\n",
        "    fig = plt.figure(figsize=(5,3))\n",
        "    plt.plot(history.history['loss'], label='Loss')\n",
        "    plt.plot(history.history['val_loss'], label='test_Loss')\n",
        "    plt.xlabel(\"epoch\")\n",
        "    plt.title('loss Function')\n",
        "    plt.legend()"
      ],
      "outputs": [],
      "metadata": {
        "id": "GvY9pLUxtKq_"
      }
    },
    {
      "cell_type": "code",
      "execution_count": null,
      "source": [
        "model_plot(history)"
      ],
      "outputs": [],
      "metadata": {
        "id": "vjlwFwDftKq_"
      }
    },
    {
      "cell_type": "code",
      "source": [
        "y_pred=model.predict(x_test)\n",
        "print(f\"{x_test.shape}{y_test.shape}\")\n",
        "y_test[:100,0,0].shape"
      ],
      "metadata": {
        "id": "5mgQyqT8yuSi",
        "colab": {
          "base_uri": "https://localhost:8080/"
        },
        "outputId": "cab14a33-85b0-432b-b44d-7fb4f32adcba"
      },
      "execution_count": 66,
      "outputs": [
        {
          "output_type": "execute_result",
          "data": {
            "text/plain": [
              "(100,)"
            ]
          },
          "metadata": {},
          "execution_count": 66
        }
      ]
    },
    {
      "cell_type": "code",
      "source": [
        "fig, axes = plt.subplots(2, 3,sharex=True,figsize=(30, 15))\n",
        "axes[0,0].plot(y_pred[:100,0],color='blue')\n",
        "axes[0,0].plot(y_test[:100,0,-1],color='black')\n",
        "axes[0,0].scatter(np.array(np.arange(100)),y_test[:100,0,0],marker='*',c='y')\n",
        "axes[0,0].set_title(\"h1\")\n",
        "axes[0,1].plot(y_pred[:100,1],color='orange')\n",
        "axes[0,1].plot(y_test[:100,1,-1],color='black')\n",
        "axes[0,1].set_title(\"h2\")\n",
        "axes[0,2].plot(y_pred[:100,2],color='green')\n",
        "axes[0,2].plot(y_test[:100,2,-1],color='black')\n",
        "axes[0,2].set_title(\"h3\")\n",
        "axes[1,0].plot(y_pred[:100,3],color='red')\n",
        "axes[1,0].plot(y_test[:100,3,-1],color='black')\n",
        "axes[1,0].set_title(\"h4\")\n",
        "axes[1,1].plot(y_pred[:100,4],color='cyan')\n",
        "axes[1,1].plot(y_test[:100,4,-1],color='black')\n",
        "axes[1,1].set_title(\"h5\")\n",
        "axes[1,2].plot(y_pred[:100,5],color='blue')\n",
        "axes[1,2].plot(y_test[:100,5,-1],color='black')\n",
        "axes[1,2].set_title(\"h6\")\n",
        "plt.legend()"
      ],
      "metadata": {
        "id": "tOHZyVhRXgHY"
      },
      "execution_count": null,
      "outputs": []
    },
    {
      "cell_type": "code",
      "source": [
        "y_pred"
      ],
      "metadata": {
        "id": "cnrXI7xxamm5"
      },
      "execution_count": null,
      "outputs": []
    },
    {
      "cell_type": "code",
      "source": [
        "a=np.array([abs(y_test[:100,0,-1]-y_pred[:100,0])])\n",
        "plt.scatter(np.array(np.arange(100)),a,marker='*',c=y_test[:100,0,0])\n",
        "plt.legend()\n"
      ],
      "metadata": {
        "colab": {
          "base_uri": "https://localhost:8080/",
          "height": 486
        },
        "id": "rg8WM_fVdLaI",
        "outputId": "37b64e06-493a-43d2-cd26-9451139e1ccb"
      },
      "execution_count": 105,
      "outputs": [
        {
          "output_type": "stream",
          "name": "stderr",
          "text": [
            "WARNING:matplotlib.legend:No artists with labels found to put in legend.  Note that artists whose label start with an underscore are ignored when legend() is called with no argument.\n"
          ]
        },
        {
          "output_type": "execute_result",
          "data": {
            "text/plain": [
              "<matplotlib.legend.Legend at 0x7d3bba2edc90>"
            ]
          },
          "metadata": {},
          "execution_count": 105
        },
        {
          "output_type": "display_data",
          "data": {
            "text/plain": [
              "<Figure size 640x480 with 1 Axes>"
            ],
            "image/png": "[encoded data removed]"
          },
          "metadata": {}
        }
      ]
    },
    {
      "cell_type": "code",
      "source": [
        "for i in range(7):\n",
        "  MAE = mean_absolute_error(y_test[:,i,-1],y_pred[:,i])\n",
        "  RMSE = np.sqrt(mean_squared_error(y_test[:,i,-1],y_pred[:,i]))\n",
        "  R2 = r2_score(y_test[:,i,-1],y_pred[:,i])\n",
        "  print('MAE{} : '.format(i+1),MAE)\n",
        "  print('RMSE{} : '.format(i+1),RMSE)\n",
        "  print('R2{} : '.format(i+1),R2)\n",
        "  print('\\n')"
      ],
      "metadata": {
        "colab": {
          "base_uri": "https://localhost:8080/"
        },
        "id": "XD9TcWMWYUDD",
        "outputId": "cb430a2b-4f18-412e-99c9-9da0c3e2d9de"
      },
      "execution_count": 86,
      "outputs": [
        {
          "output_type": "stream",
          "name": "stdout",
          "text": [
            "MAE1 :  0.022290137977643794\n",
            "RMSE1 :  0.04086350446562877\n",
            "R21 :  0.9826724732023793\n",
            "\n",
            "\n",
            "MAE2 :  0.022045179934408042\n",
            "RMSE2 :  0.041981672979012265\n",
            "R22 :  0.9817095256918219\n",
            "\n",
            "\n",
            "MAE3 :  0.022063550935697666\n",
            "RMSE3 :  0.0428645746023789\n",
            "R23 :  0.980932115123292\n",
            "\n",
            "\n",
            "MAE4 :  0.02333807670642483\n",
            "RMSE4 :  0.04508061400294331\n",
            "R24 :  0.9789095847726648\n",
            "\n",
            "\n",
            "MAE5 :  0.023819011855283973\n",
            "RMSE5 :  0.04639741173973834\n",
            "R25 :  0.9776615126854618\n",
            "\n",
            "\n",
            "MAE6 :  0.024310687662896374\n",
            "RMSE6 :  0.0475225170463278\n",
            "R26 :  0.9765669839190856\n",
            "\n",
            "\n",
            "MAE7 :  0.025789787924425198\n",
            "RMSE7 :  0.049454264671180734\n",
            "R27 :  0.9746210426829901\n",
            "\n",
            "\n"
          ]
        }
      ]
    }
  ]
}