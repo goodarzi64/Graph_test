{
  "cells": [
    {
      "cell_type": "markdown",
      "metadata": {
        "id": "view-in-github",
        "colab_type": "text"
      },
      "source": [
        "<a href=\"https://colab.research.google.com/github/goodarzi64/Graph_test/blob/main/Untitled6.ipynb\" target=\"_parent\"><img src=\"https://colab.research.google.com/assets/colab-badge.svg\" alt=\"Open In Colab\"/></a>"
      ]
    },
    {
      "cell_type": "code",
      "execution_count": null,
      "metadata": {
        "colab": {
          "base_uri": "https://localhost:8080/"
        },
        "id": "9kIUorK6qgxD",
        "outputId": "b65a8d36-1924-46f6-dc86-5719536b5910"
      },
      "outputs": [
        {
          "name": "stdout",
          "output_type": "stream",
          "text": [
            "Python 3.10.12\n"
          ]
        }
      ],
      "source": [
        "!python --version"
      ]
    },
    {
      "cell_type": "code",
      "execution_count": null,
      "metadata": {
        "id": "UGW1uOGvqpKB"
      },
      "outputs": [],
      "source": [
        "! pip install spektral"
      ]
    },
    {
      "cell_type": "code",
      "execution_count": null,
      "metadata": {
        "colab": {
          "base_uri": "https://localhost:8080/"
        },
        "id": "CBy0uOMepZJR",
        "outputId": "e7b22e47-d9d6-428f-ac08-ea00a2acfdb0"
      },
      "outputs": [
        {
          "data": {
            "text/plain": [
              "(2708, 1433)"
            ]
          },
          "execution_count": 8,
          "metadata": {},
          "output_type": "execute_result"
        }
      ],
      "source": [
        "from spektral.datasets import Cora\n",
        "dataset = Cora()\n",
        "dataset[0].a.shape\n",
        "dataset[0].x.shape"
      ]
    },
    {
      "cell_type": "code",
      "execution_count": null,
      "metadata": {
        "id": "dyS2nJ8V5b40"
      },
      "outputs": [],
      "source": [
        "#!pip install networkx[default]\n",
        "import networkx as nx\n",
        "import numpy as np"
      ]
    },
    {
      "cell_type": "code",
      "execution_count": null,
      "metadata": {
        "colab": {
          "background_save": true
        },
        "id": "c_yM-k9i6oSI"
      },
      "outputs": [],
      "source": [
        "\n",
        "from nx import karate_club_graph\n",
        "#from networkx import to_numpy_matrix\n",
        "zkc = karate_club_graph()\n",
        "order = sorted(list(zkc.nodes()))\n",
        "A = to_numpy_matrix(zkc, nodelist=order)"
      ]
    },
    {
      "cell_type": "code",
      "source": [
        "# example making new probability predictions for a classification problem\n",
        "from keras.models import Sequential\n",
        "from keras.layers import Dense\n",
        "from sklearn.datasets import make_blobs\n",
        "from sklearn.preprocessing import MinMaxScaler\n",
        "# generate 2d classification dataset\n",
        "X, y = make_blobs(n_samples=100, centers=2, n_features=2, random_state=1)\n",
        "scalar = MinMaxScaler()\n",
        "scalar.fit(X)\n",
        "X = scalar.transform(X)\n",
        "# define and fit the final model\n",
        "model = Sequential()\n",
        "model.add(Dense(4, input_shape=(2,), activation='relu'))\n",
        "model.add(Dense(4, activation='relu'))\n",
        "model.add(Dense(1, activation='sigmoid'))\n",
        "model.compile(loss='binary_crossentropy', optimizer='adam')\n",
        "model.fit(X, y, epochs=500, verbose=0)\n",
        "# new instances where we do not know the answer\n",
        "Xnew,YY = make_blobs(n_samples=3, centers=2, n_features=2, random_state=1)\n",
        "Xnew = scalar.transform(Xnew)\n",
        "# make a prediction\n",
        "ynew = model.predict(Xnew)\n",
        "# show the inputs and predicted outputs\n",
        "for i in range(len(Xnew)):\n",
        "\tprint(\"X=%s, Predicted=%s\" % (Xnew[i], ynew[i]))"
      ],
      "metadata": {
        "id": "U4p2TMALjbO6"
      },
      "execution_count": null,
      "outputs": []
    },
    {
      "cell_type": "code",
      "source": [
        "# example of making predictions for a regression problem\n",
        "from keras.models import Sequential\n",
        "from keras.layers import Dense\n",
        "from sklearn.datasets import make_regression\n",
        "from sklearn.preprocessing import MinMaxScaler\n",
        "from numpy import array\n",
        "from matplotlib import pyplot as plt\n",
        "# generate regression dataset\n",
        "X, y = make_regression(n_samples=100, n_features=2, noise=0.1, random_state=1)\n",
        "scalarX, scalarY = MinMaxScaler(), MinMaxScaler()\n",
        "scalarX.fit(X)\n",
        "scalarY.fit(y.reshape(100,1))\n",
        "X = scalarX.transform(X)\n",
        "y = scalarY.transform(y.reshape(100,1))\n",
        "# define and fit the final model\n",
        "model = Sequential()\n",
        "model.add(Dense(4, input_shape=(2,), activation='relu'))\n",
        "model.add(Dense(4, activation='relu'))\n",
        "model.add(Dense(1, activation='linear'))\n",
        "model.compile(loss='mse', optimizer='adam')\n",
        "X[1:].shape\n",
        "model.fit(X[1:], y[1:], epochs=1000, verbose=0)\n",
        "# new instance where we do not know the answer\n",
        "#Xnew = array([[0.29466096, 0.30317302]])\n",
        "# make a prediction\n",
        "ynew = model.predict(X[0,:].reshape(1,2))\n",
        "X[0,:].reshape(1,2)\n",
        "# show the inputs and predicted outputs\n",
        "print(\"X=%s, Predicted=%s realval=%s\" % (X[0], ynew[0],y[0]))"
      ],
      "metadata": {
        "colab": {
          "base_uri": "https://localhost:8080/"
        },
        "id": "Jxs3MAv1qX7o",
        "outputId": "df17f1de-fff1-4d84-e9a5-e74623810a87"
      },
      "execution_count": 36,
      "outputs": [
        {
          "output_type": "stream",
          "name": "stdout",
          "text": [
            "X=[0.53688946 0.6063968 ], Predicted=[0.60274553] realval=[0.60338436]\n"
          ]
        }
      ]
    }
  ],
  "metadata": {
    "colab": {
      "provenance": [],
      "authorship_tag": "ABX9TyN4u5cXJGXSihPDFZY3UKAp",
      "include_colab_link": true
    },
    "kernelspec": {
      "display_name": "Python 3",
      "name": "python3"
    },
    "language_info": {
      "name": "python"
    }
  },
  "nbformat": 4,
  "nbformat_minor": 0
}